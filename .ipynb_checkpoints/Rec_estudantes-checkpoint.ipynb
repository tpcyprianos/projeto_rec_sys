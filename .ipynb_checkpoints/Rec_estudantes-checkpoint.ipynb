{
 "cells": [
  {
   "cell_type": "markdown",
   "id": "37fff6dc-c9ee-4396-9cd5-65f04a890a3f",
   "metadata": {},
   "source": [
    "# Recomendação - Estudantes que necessitam de atenção\n",
    "Com base nos registros de acesso às questões, por meio de algoritmo de Filtragem Baseada em Conhecimento, nas abordagens de restrições e de casos, identificar os estudantes que não atingem notas esperadas. \n",
    "Verificar estudantes que estão entediados? pouco engajamento?"
   ]
  },
  {
   "cell_type": "code",
   "execution_count": null,
   "id": "c571db5b-8d5d-474d-bd30-d7ef530c3253",
   "metadata": {},
   "outputs": [],
   "source": [
    "#### Ideia, buscar o baixo engajamento nas atividades? Usando informação temporal"
   ]
  }
 ],
 "metadata": {
  "kernelspec": {
   "display_name": "Python 3 (ipykernel)",
   "language": "python",
   "name": "python3"
  },
  "language_info": {
   "codemirror_mode": {
    "name": "ipython",
    "version": 3
   },
   "file_extension": ".py",
   "mimetype": "text/x-python",
   "name": "python",
   "nbconvert_exporter": "python",
   "pygments_lexer": "ipython3",
   "version": "3.12.4"
  }
 },
 "nbformat": 4,
 "nbformat_minor": 5
}
