{
 "cells": [
  {
   "cell_type": "markdown",
   "id": "4d7d43f8-f5d4-4f5f-ab6e-f0f13020c034",
   "metadata": {},
   "source": [
    "# Recomendação - Recursos Semelhantes\n",
    "Por meio de algoritmo de **Filtragem Baseada em Conteúdo**, recomendar recursos educacionais similares, baseado nas características desses recursos"
   ]
  },
  {
   "cell_type": "code",
   "execution_count": null,
   "id": "35c3c6ec-f774-4e17-b95f-0ed18a4f5552",
   "metadata": {},
   "outputs": [],
   "source": [
    "import pandas as pd\n",
    "\n",
    "kt1 = pd.read_csv(r'D:\\Doutorado\\USP\\SCC5966 - Recomendaçao\\Projeto\\dataset\\compacto\\kt1.txt',sep='\\t')"
   ]
  },
  {
   "cell_type": "code",
   "execution_count": null,
   "id": "b03f9c84-1e74-4743-904d-804318abd028",
   "metadata": {},
   "outputs": [],
   "source": []
  }
 ],
 "metadata": {
  "kernelspec": {
   "display_name": "Python 3 (ipykernel)",
   "language": "python",
   "name": "python3"
  },
  "language_info": {
   "codemirror_mode": {
    "name": "ipython",
    "version": 3
   },
   "file_extension": ".py",
   "mimetype": "text/x-python",
   "name": "python",
   "nbconvert_exporter": "python",
   "pygments_lexer": "ipython3",
   "version": "3.12.4"
  }
 },
 "nbformat": 4,
 "nbformat_minor": 5
}
