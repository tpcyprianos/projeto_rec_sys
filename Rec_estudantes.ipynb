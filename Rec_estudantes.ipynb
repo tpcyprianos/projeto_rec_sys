{
 "cells": [
  {
   "cell_type": "markdown",
   "id": "37fff6dc-c9ee-4396-9cd5-65f04a890a3f",
   "metadata": {},
   "source": [
    "# Recomendação - Estudantes que necessitam de atenção\n",
    "Com base nos registros de acesso às questões, por meio de algoritmo de Filtragem Baseada em Conhecimento, nas abordagens de restrições e de casos, identificar os estudantes que não atingem notas esperadas. \n",
    "Verificar estudantes que estão entediados? pouco engajamento?"
   ]
  },
  {
   "cell_type": "code",
   "execution_count": null,
   "id": "c571db5b-8d5d-474d-bd30-d7ef530c3253",
   "metadata": {},
   "outputs": [],
   "source": [
    "#### Ideia, buscar o baixo engajamento nas atividades? Usando informação temporal"
   ]
  },
  {
   "cell_type": "code",
   "execution_count": 1,
   "id": "c78c63a7-de56-4cc3-91bd-8a85ad0a4391",
   "metadata": {},
   "outputs": [],
   "source": [
    "import pandas as pd\n",
    "\n",
    "kt1 = pd.read_csv(r'D:\\Doutorado\\USP\\SCC5966 - Recomendaçao\\Projeto\\dataset\\compacto\\kt1.txt',sep='\\t')\n",
    "kt2 = pd.read_csv(r'D:\\Doutorado\\USP\\SCC5966 - Recomendaçao\\Projeto\\dataset\\compacto\\kt2.txt',sep='\\t')\n",
    "kt3 = pd.read_csv(r'D:\\Doutorado\\USP\\SCC5966 - Recomendaçao\\Projeto\\dataset\\compacto\\kt3.txt',sep='\\t')\n",
    "kt4 = pd.read_csv(r'D:\\Doutorado\\USP\\SCC5966 - Recomendaçao\\Projeto\\dataset\\compacto\\kt4.txt',sep='\\t')"
   ]
  },
  {
   "cell_type": "code",
   "execution_count": 3,
   "id": "a6fe7dba-30cb-4c64-9bfd-947128778a85",
   "metadata": {},
   "outputs": [
    {
     "data": {
      "text/html": [
       "<div>\n",
       "<style scoped>\n",
       "    .dataframe tbody tr th:only-of-type {\n",
       "        vertical-align: middle;\n",
       "    }\n",
       "\n",
       "    .dataframe tbody tr th {\n",
       "        vertical-align: top;\n",
       "    }\n",
       "\n",
       "    .dataframe thead th {\n",
       "        text-align: right;\n",
       "    }\n",
       "</style>\n",
       "<table border=\"1\" class=\"dataframe\">\n",
       "  <thead>\n",
       "    <tr style=\"text-align: right;\">\n",
       "      <th></th>\n",
       "      <th>Unnamed: 0</th>\n",
       "      <th>timestamp</th>\n",
       "      <th>action_type</th>\n",
       "      <th>item_id</th>\n",
       "      <th>cursor_time</th>\n",
       "      <th>source</th>\n",
       "      <th>user_answer</th>\n",
       "      <th>platform</th>\n",
       "      <th>codigo_arquivo</th>\n",
       "      <th>usuario</th>\n",
       "    </tr>\n",
       "  </thead>\n",
       "  <tbody>\n",
       "    <tr>\n",
       "      <th>0</th>\n",
       "      <td>0</td>\n",
       "      <td>1565651017866</td>\n",
       "      <td>pay</td>\n",
       "      <td>p130</td>\n",
       "      <td>NaN</td>\n",
       "      <td>NaN</td>\n",
       "      <td>NaN</td>\n",
       "      <td>NaN</td>\n",
       "      <td>u5.csv</td>\n",
       "      <td>u5</td>\n",
       "    </tr>\n",
       "    <tr>\n",
       "      <th>1</th>\n",
       "      <td>1</td>\n",
       "      <td>1566532547478</td>\n",
       "      <td>enter</td>\n",
       "      <td>b5298</td>\n",
       "      <td>NaN</td>\n",
       "      <td>my_note</td>\n",
       "      <td>NaN</td>\n",
       "      <td>web</td>\n",
       "      <td>u5.csv</td>\n",
       "      <td>u5</td>\n",
       "    </tr>\n",
       "    <tr>\n",
       "      <th>2</th>\n",
       "      <td>2</td>\n",
       "      <td>1566532582693</td>\n",
       "      <td>respond</td>\n",
       "      <td>q7242</td>\n",
       "      <td>NaN</td>\n",
       "      <td>my_note</td>\n",
       "      <td>a</td>\n",
       "      <td>web</td>\n",
       "      <td>u5.csv</td>\n",
       "      <td>u5</td>\n",
       "    </tr>\n",
       "    <tr>\n",
       "      <th>3</th>\n",
       "      <td>3</td>\n",
       "      <td>1566532645820</td>\n",
       "      <td>respond</td>\n",
       "      <td>q7243</td>\n",
       "      <td>NaN</td>\n",
       "      <td>my_note</td>\n",
       "      <td>a</td>\n",
       "      <td>web</td>\n",
       "      <td>u5.csv</td>\n",
       "      <td>u5</td>\n",
       "    </tr>\n",
       "    <tr>\n",
       "      <th>4</th>\n",
       "      <td>4</td>\n",
       "      <td>1566532707773</td>\n",
       "      <td>respond</td>\n",
       "      <td>q7244</td>\n",
       "      <td>NaN</td>\n",
       "      <td>my_note</td>\n",
       "      <td>a</td>\n",
       "      <td>web</td>\n",
       "      <td>u5.csv</td>\n",
       "      <td>u5</td>\n",
       "    </tr>\n",
       "  </tbody>\n",
       "</table>\n",
       "</div>"
      ],
      "text/plain": [
       "   Unnamed: 0      timestamp action_type item_id  cursor_time   source  \\\n",
       "0           0  1565651017866         pay    p130          NaN      NaN   \n",
       "1           1  1566532547478       enter   b5298          NaN  my_note   \n",
       "2           2  1566532582693     respond   q7242          NaN  my_note   \n",
       "3           3  1566532645820     respond   q7243          NaN  my_note   \n",
       "4           4  1566532707773     respond   q7244          NaN  my_note   \n",
       "\n",
       "  user_answer platform codigo_arquivo usuario  \n",
       "0         NaN      NaN         u5.csv      u5  \n",
       "1         NaN      web         u5.csv      u5  \n",
       "2           a      web         u5.csv      u5  \n",
       "3           a      web         u5.csv      u5  \n",
       "4           a      web         u5.csv      u5  "
      ]
     },
     "execution_count": 3,
     "metadata": {},
     "output_type": "execute_result"
    }
   ],
   "source": [
    "kt4.head()"
   ]
  },
  {
   "cell_type": "code",
   "execution_count": 15,
   "id": "4a185786-c8a5-46d2-80fb-da713ec9341a",
   "metadata": {},
   "outputs": [],
   "source": [
    "# Removendo automaticamente as colunas 'Unnamed'\n",
    "data = kt4.loc[:, ~kt4.columns.str.contains('^Unnamed')].copy()"
   ]
  },
  {
   "cell_type": "code",
   "execution_count": 17,
   "id": "c3b0334b-8dd8-4a3e-bd34-694481753a11",
   "metadata": {},
   "outputs": [
    {
     "data": {
      "text/html": [
       "<div>\n",
       "<style scoped>\n",
       "    .dataframe tbody tr th:only-of-type {\n",
       "        vertical-align: middle;\n",
       "    }\n",
       "\n",
       "    .dataframe tbody tr th {\n",
       "        vertical-align: top;\n",
       "    }\n",
       "\n",
       "    .dataframe thead th {\n",
       "        text-align: right;\n",
       "    }\n",
       "</style>\n",
       "<table border=\"1\" class=\"dataframe\">\n",
       "  <thead>\n",
       "    <tr style=\"text-align: right;\">\n",
       "      <th></th>\n",
       "      <th>timestamp</th>\n",
       "      <th>action_type</th>\n",
       "      <th>item_id</th>\n",
       "      <th>cursor_time</th>\n",
       "      <th>source</th>\n",
       "      <th>user_answer</th>\n",
       "      <th>platform</th>\n",
       "      <th>codigo_arquivo</th>\n",
       "      <th>usuario</th>\n",
       "    </tr>\n",
       "  </thead>\n",
       "  <tbody>\n",
       "    <tr>\n",
       "      <th>0</th>\n",
       "      <td>1565651017866</td>\n",
       "      <td>pay</td>\n",
       "      <td>p130</td>\n",
       "      <td>NaN</td>\n",
       "      <td>NaN</td>\n",
       "      <td>NaN</td>\n",
       "      <td>NaN</td>\n",
       "      <td>u5.csv</td>\n",
       "      <td>u5</td>\n",
       "    </tr>\n",
       "    <tr>\n",
       "      <th>1</th>\n",
       "      <td>1566532547478</td>\n",
       "      <td>enter</td>\n",
       "      <td>b5298</td>\n",
       "      <td>NaN</td>\n",
       "      <td>my_note</td>\n",
       "      <td>NaN</td>\n",
       "      <td>web</td>\n",
       "      <td>u5.csv</td>\n",
       "      <td>u5</td>\n",
       "    </tr>\n",
       "    <tr>\n",
       "      <th>2</th>\n",
       "      <td>1566532582693</td>\n",
       "      <td>respond</td>\n",
       "      <td>q7242</td>\n",
       "      <td>NaN</td>\n",
       "      <td>my_note</td>\n",
       "      <td>a</td>\n",
       "      <td>web</td>\n",
       "      <td>u5.csv</td>\n",
       "      <td>u5</td>\n",
       "    </tr>\n",
       "    <tr>\n",
       "      <th>3</th>\n",
       "      <td>1566532645820</td>\n",
       "      <td>respond</td>\n",
       "      <td>q7243</td>\n",
       "      <td>NaN</td>\n",
       "      <td>my_note</td>\n",
       "      <td>a</td>\n",
       "      <td>web</td>\n",
       "      <td>u5.csv</td>\n",
       "      <td>u5</td>\n",
       "    </tr>\n",
       "    <tr>\n",
       "      <th>4</th>\n",
       "      <td>1566532707773</td>\n",
       "      <td>respond</td>\n",
       "      <td>q7244</td>\n",
       "      <td>NaN</td>\n",
       "      <td>my_note</td>\n",
       "      <td>a</td>\n",
       "      <td>web</td>\n",
       "      <td>u5.csv</td>\n",
       "      <td>u5</td>\n",
       "    </tr>\n",
       "  </tbody>\n",
       "</table>\n",
       "</div>"
      ],
      "text/plain": [
       "       timestamp action_type item_id  cursor_time   source user_answer  \\\n",
       "0  1565651017866         pay    p130          NaN      NaN         NaN   \n",
       "1  1566532547478       enter   b5298          NaN  my_note         NaN   \n",
       "2  1566532582693     respond   q7242          NaN  my_note           a   \n",
       "3  1566532645820     respond   q7243          NaN  my_note           a   \n",
       "4  1566532707773     respond   q7244          NaN  my_note           a   \n",
       "\n",
       "  platform codigo_arquivo usuario  \n",
       "0      NaN         u5.csv      u5  \n",
       "1      web         u5.csv      u5  \n",
       "2      web         u5.csv      u5  \n",
       "3      web         u5.csv      u5  \n",
       "4      web         u5.csv      u5  "
      ]
     },
     "execution_count": 17,
     "metadata": {},
     "output_type": "execute_result"
    }
   ],
   "source": [
    "data.head()"
   ]
  },
  {
   "cell_type": "code",
   "execution_count": 7,
   "id": "82412926-9e5d-47ec-90e2-47396e6cc3ae",
   "metadata": {},
   "outputs": [
    {
     "data": {
      "text/plain": [
       "<Axes: xlabel='lecture_id', ylabel='tags'>"
      ]
     },
     "execution_count": 7,
     "metadata": {},
     "output_type": "execute_result"
    },
    {
     "data": {
      "image/png": "[encoded data removed]",
      "text/plain": [
       "<Figure size 640x480 with 1 Axes>"
      ]
     },
     "metadata": {},
     "output_type": "display_data"
    }
   ],
   "source": [
    "import seaborn as sns\n",
    "\n",
    "sns.scatterplot(data = lectures, x = 'lecture_id', y = 'tags', hue = 'video_length')"
   ]
  },
  {
   "cell_type": "code",
   "execution_count": 19,
   "id": "2c3b51a1-51fb-4738-85a3-c52fd9a25bdd",
   "metadata": {},
   "outputs": [
    {
     "name": "stderr",
     "output_type": "stream",
     "text": [
      "C:\\Users\\talit\\AppData\\Local\\Temp\\ipykernel_9552\\1564663703.py:25: DeprecationWarning: DataFrameGroupBy.apply operated on the grouping columns. This behavior is deprecated, and in a future version of pandas the grouping columns will be excluded from the operation. Either pass `include_groups=False` to exclude the groupings or explicitly select the grouping columns after groupby to silence this warning.\n",
      "  tempo_itens = df_filtered.groupby([\"usuario\", \"item_id\"]).apply(calculate_time).reset_index(drop=True)\n"
     ]
    },
    {
     "name": "stdout",
     "output_type": "stream",
     "text": [
      "       usuario item_id  total_time_spent\n",
      "0        u1000      b1               0.0\n",
      "1        u1000    b100               0.0\n",
      "2        u1000   b1013               0.0\n",
      "3        u1000   b1019               0.0\n",
      "4        u1000   b1029               0.0\n",
      "...        ...     ...               ...\n",
      "734263    u998    l629          284630.0\n",
      "734264    u998     l64          199567.0\n",
      "734265    u998    l719          478096.0\n",
      "734266    u998    l784          179132.0\n",
      "734267    u998    l812           81689.0\n",
      "\n",
      "[734268 rows x 3 columns]\n"
     ]
    }
   ],
   "source": [
    "import pandas as pd\n",
    "\n",
    "# Convertendo o timestamp para um tipo numérico (se necessário)\n",
    "data[\"timestamp\"] = pd.to_numeric(data[\"timestamp\"])\n",
    "\n",
    "# Filtrar apenas ações relevantes (enter, play, pause, quit)\n",
    "filtered_actions = [\"enter\", \"play\", \"pause\", \"quit\"]\n",
    "df_filtered = data[data[\"action_type\"].isin(filtered_actions)]\n",
    "\n",
    "# Ordenar os dados por usuário, item_id e timestamp\n",
    "df_filtered = df_filtered.sort_values(by=[\"usuario\", \"item_id\", \"timestamp\"])\n",
    "\n",
    "# Criar uma função para calcular o tempo gasto em cada item_id\n",
    "def calculate_time(group):\n",
    "    group = group.sort_values(by=\"timestamp\")  # Ordenar por timestamp\n",
    "    group[\"time_diff\"] = group[\"timestamp\"].diff()  # Diferença de tempo entre ações\n",
    "    total_time = group[\"time_diff\"].sum()  # Tempo total gasto\n",
    "    return pd.DataFrame({\n",
    "        \"usuario\": [group[\"usuario\"].iloc[0]],\n",
    "        \"item_id\": [group[\"item_id\"].iloc[0]],\n",
    "        \"total_time_spent\": [total_time]\n",
    "    })\n",
    "\n",
    "# Agrupar por usuário e item_id e aplicar a função\n",
    "tempo_itens = df_filtered.groupby([\"usuario\", \"item_id\"]).apply(calculate_time).reset_index(drop=True)\n",
    "\n",
    "# Exibir o resultado final\n",
    "print(tempo_itens)\n"
   ]
  },
  {
   "cell_type": "code",
   "execution_count": 21,
   "id": "92bbf51b-8a84-4753-bdce-58bed169e231",
   "metadata": {},
   "outputs": [],
   "source": [
    "tempo_itens.to_csv('D:/Doutorado/USP/SCC5966 - Recomendaçao/Projeto/dataset/dados_treinamento/tempo_itens.txt', sep='\\t', index=True)"
   ]
  },
  {
   "cell_type": "code",
   "execution_count": 24,
   "id": "628fe660-688f-4805-b3e8-aed5c689de4a",
   "metadata": {},
   "outputs": [
    {
     "data": {
      "text/html": [
       "<div>\n",
       "<style scoped>\n",
       "    .dataframe tbody tr th:only-of-type {\n",
       "        vertical-align: middle;\n",
       "    }\n",
       "\n",
       "    .dataframe tbody tr th {\n",
       "        vertical-align: top;\n",
       "    }\n",
       "\n",
       "    .dataframe thead th {\n",
       "        text-align: right;\n",
       "    }\n",
       "</style>\n",
       "<table border=\"1\" class=\"dataframe\">\n",
       "  <thead>\n",
       "    <tr style=\"text-align: right;\">\n",
       "      <th></th>\n",
       "      <th>usuario</th>\n",
       "      <th>item_id</th>\n",
       "      <th>total_time_spent</th>\n",
       "    </tr>\n",
       "  </thead>\n",
       "  <tbody>\n",
       "    <tr>\n",
       "      <th>0</th>\n",
       "      <td>u1000</td>\n",
       "      <td>b1</td>\n",
       "      <td>0.0</td>\n",
       "    </tr>\n",
       "    <tr>\n",
       "      <th>1</th>\n",
       "      <td>u1000</td>\n",
       "      <td>b100</td>\n",
       "      <td>0.0</td>\n",
       "    </tr>\n",
       "    <tr>\n",
       "      <th>2</th>\n",
       "      <td>u1000</td>\n",
       "      <td>b1013</td>\n",
       "      <td>0.0</td>\n",
       "    </tr>\n",
       "    <tr>\n",
       "      <th>3</th>\n",
       "      <td>u1000</td>\n",
       "      <td>b1019</td>\n",
       "      <td>0.0</td>\n",
       "    </tr>\n",
       "    <tr>\n",
       "      <th>4</th>\n",
       "      <td>u1000</td>\n",
       "      <td>b1029</td>\n",
       "      <td>0.0</td>\n",
       "    </tr>\n",
       "  </tbody>\n",
       "</table>\n",
       "</div>"
      ],
      "text/plain": [
       "  usuario item_id  total_time_spent\n",
       "0   u1000      b1               0.0\n",
       "1   u1000    b100               0.0\n",
       "2   u1000   b1013               0.0\n",
       "3   u1000   b1019               0.0\n",
       "4   u1000   b1029               0.0"
      ]
     },
     "execution_count": 24,
     "metadata": {},
     "output_type": "execute_result"
    }
   ],
   "source": [
    "tempo_itens.head()"
   ]
  },
  {
   "cell_type": "code",
   "execution_count": null,
   "id": "ed3b5cf3-6a5e-4770-af8e-40743687b9d7",
   "metadata": {},
   "outputs": [],
   "source": []
  }
 ],
 "metadata": {
  "kernelspec": {
   "display_name": "Python 3 (ipykernel)",
   "language": "python",
   "name": "python3"
  },
  "language_info": {
   "codemirror_mode": {
    "name": "ipython",
    "version": 3
   },
   "file_extension": ".py",
   "mimetype": "text/x-python",
   "name": "python",
   "nbconvert_exporter": "python",
   "pygments_lexer": "ipython3",
   "version": "3.12.4"
  }
 },
 "nbformat": 4,
 "nbformat_minor": 5
}
